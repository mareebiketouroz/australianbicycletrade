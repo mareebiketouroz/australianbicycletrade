{
 "cells": [
  {
   "cell_type": "markdown",
   "metadata": {},
   "source": [
    "# Australian bicycle trade 2014\n",
    "\n",
    "This notebook looks at the bicycle trade to/from Australia as captured by comtrade.\n",
    "\n",
    "Which countries were the top importers of bicycles to Australia is 2014?\n",
    "Which countries did Australia export the most bicycles to in 2014?\n",
    "\n",
    "## Load data and restrict to useful columns"
   ]
  },
  {
   "cell_type": "code",
   "execution_count": 32,
   "metadata": {
    "collapsed": false
   },
   "outputs": [
    {
     "data": {
      "text/html": [
       "<div>\n",
       "<table border=\"1\" class=\"dataframe\">\n",
       "  <thead>\n",
       "    <tr style=\"text-align: right;\">\n",
       "      <th></th>\n",
       "      <th>Year</th>\n",
       "      <th>Period</th>\n",
       "      <th>Trade Flow</th>\n",
       "      <th>Reporter</th>\n",
       "      <th>Partner</th>\n",
       "      <th>Commodity</th>\n",
       "      <th>Commodity Code</th>\n",
       "      <th>Trade Value (US$)</th>\n",
       "    </tr>\n",
       "  </thead>\n",
       "  <tbody>\n",
       "    <tr>\n",
       "      <th>0</th>\n",
       "      <td>2014</td>\n",
       "      <td>201401</td>\n",
       "      <td>Imports</td>\n",
       "      <td>Australia</td>\n",
       "      <td>World</td>\n",
       "      <td>Bicycles, other cycles, not motorized</td>\n",
       "      <td>8712</td>\n",
       "      <td>20383303</td>\n",
       "    </tr>\n",
       "    <tr>\n",
       "      <th>1</th>\n",
       "      <td>2014</td>\n",
       "      <td>201401</td>\n",
       "      <td>Exports</td>\n",
       "      <td>Australia</td>\n",
       "      <td>World</td>\n",
       "      <td>Bicycles, other cycles, not motorized</td>\n",
       "      <td>8712</td>\n",
       "      <td>175499</td>\n",
       "    </tr>\n",
       "    <tr>\n",
       "      <th>2</th>\n",
       "      <td>2014</td>\n",
       "      <td>201401</td>\n",
       "      <td>Imports</td>\n",
       "      <td>Australia</td>\n",
       "      <td>Australia</td>\n",
       "      <td>Bicycles, other cycles, not motorized</td>\n",
       "      <td>8712</td>\n",
       "      <td>2241</td>\n",
       "    </tr>\n",
       "    <tr>\n",
       "      <th>3</th>\n",
       "      <td>2014</td>\n",
       "      <td>201401</td>\n",
       "      <td>Imports</td>\n",
       "      <td>Australia</td>\n",
       "      <td>Belgium</td>\n",
       "      <td>Bicycles, other cycles, not motorized</td>\n",
       "      <td>8712</td>\n",
       "      <td>9197</td>\n",
       "    </tr>\n",
       "    <tr>\n",
       "      <th>4</th>\n",
       "      <td>2014</td>\n",
       "      <td>201401</td>\n",
       "      <td>Imports</td>\n",
       "      <td>Australia</td>\n",
       "      <td>Cambodia</td>\n",
       "      <td>Bicycles, other cycles, not motorized</td>\n",
       "      <td>8712</td>\n",
       "      <td>297827</td>\n",
       "    </tr>\n",
       "  </tbody>\n",
       "</table>\n",
       "</div>"
      ],
      "text/plain": [
       "   Year  Period Trade Flow   Reporter    Partner  \\\n",
       "0  2014  201401    Imports  Australia      World   \n",
       "1  2014  201401    Exports  Australia      World   \n",
       "2  2014  201401    Imports  Australia  Australia   \n",
       "3  2014  201401    Imports  Australia    Belgium   \n",
       "4  2014  201401    Imports  Australia   Cambodia   \n",
       "\n",
       "                               Commodity Commodity Code  Trade Value (US$)  \n",
       "0  Bicycles, other cycles, not motorized           8712           20383303  \n",
       "1  Bicycles, other cycles, not motorized           8712             175499  \n",
       "2  Bicycles, other cycles, not motorized           8712               2241  \n",
       "3  Bicycles, other cycles, not motorized           8712               9197  \n",
       "4  Bicycles, other cycles, not motorized           8712             297827  "
      ]
     },
     "execution_count": 32,
     "metadata": {},
     "output_type": "execute_result"
    }
   ],
   "source": [
    "%matplotlib inline\n",
    "from pandas import *\n",
    "\n",
    "## comtrade API call for Bicycles, other cycles, not motorized 2014 monthly Australia \n",
    "URL = \"http://comtrade.un.org/api/get?max=5000&type=C&freq=M&px=HS&ps=2014&r=36&p=all&rg=2%2C1&cc=8712&fmt=csv\"\n",
    "COLUMNS=['Year', 'Period','Trade Flow','Reporter', 'Partner', 'Commodity','Commodity Code','Trade Value (US$)']\n",
    "\n",
    "bicycles = read_csv(URL,dtype={'Commodity Code':str, 'Reporter Code':str})\n",
    "bicycles=bicycles[COLUMNS]\n",
    "bicycles.head()"
   ]
  },
  {
   "cell_type": "markdown",
   "metadata": {},
   "source": [
    "## Split into imports and exports datasets"
   ]
  },
  {
   "cell_type": "code",
   "execution_count": 33,
   "metadata": {
    "collapsed": false
   },
   "outputs": [
    {
     "data": {
      "text/plain": [
       "dict_keys(['Imports', 'Exports'])"
      ]
     },
     "execution_count": 33,
     "metadata": {},
     "output_type": "execute_result"
    }
   ],
   "source": [
    "trade_flows = bicycles.groupby('Trade Flow')\n",
    "trade_flows.groups.keys()"
   ]
  },
  {
   "cell_type": "code",
   "execution_count": 34,
   "metadata": {
    "collapsed": false
   },
   "outputs": [
    {
     "data": {
      "text/html": [
       "<div>\n",
       "<table border=\"1\" class=\"dataframe\">\n",
       "  <thead>\n",
       "    <tr style=\"text-align: right;\">\n",
       "      <th></th>\n",
       "      <th>Year</th>\n",
       "      <th>Period</th>\n",
       "      <th>Trade Flow</th>\n",
       "      <th>Reporter</th>\n",
       "      <th>Partner</th>\n",
       "      <th>Commodity</th>\n",
       "      <th>Commodity Code</th>\n",
       "      <th>Trade Value (US$)</th>\n",
       "    </tr>\n",
       "  </thead>\n",
       "  <tbody>\n",
       "    <tr>\n",
       "      <th>0</th>\n",
       "      <td>2014</td>\n",
       "      <td>201401</td>\n",
       "      <td>Imports</td>\n",
       "      <td>Australia</td>\n",
       "      <td>World</td>\n",
       "      <td>Bicycles, other cycles, not motorized</td>\n",
       "      <td>8712</td>\n",
       "      <td>20383303</td>\n",
       "    </tr>\n",
       "    <tr>\n",
       "      <th>2</th>\n",
       "      <td>2014</td>\n",
       "      <td>201401</td>\n",
       "      <td>Imports</td>\n",
       "      <td>Australia</td>\n",
       "      <td>Australia</td>\n",
       "      <td>Bicycles, other cycles, not motorized</td>\n",
       "      <td>8712</td>\n",
       "      <td>2241</td>\n",
       "    </tr>\n",
       "    <tr>\n",
       "      <th>3</th>\n",
       "      <td>2014</td>\n",
       "      <td>201401</td>\n",
       "      <td>Imports</td>\n",
       "      <td>Australia</td>\n",
       "      <td>Belgium</td>\n",
       "      <td>Bicycles, other cycles, not motorized</td>\n",
       "      <td>8712</td>\n",
       "      <td>9197</td>\n",
       "    </tr>\n",
       "    <tr>\n",
       "      <th>4</th>\n",
       "      <td>2014</td>\n",
       "      <td>201401</td>\n",
       "      <td>Imports</td>\n",
       "      <td>Australia</td>\n",
       "      <td>Cambodia</td>\n",
       "      <td>Bicycles, other cycles, not motorized</td>\n",
       "      <td>8712</td>\n",
       "      <td>297827</td>\n",
       "    </tr>\n",
       "    <tr>\n",
       "      <th>6</th>\n",
       "      <td>2014</td>\n",
       "      <td>201401</td>\n",
       "      <td>Imports</td>\n",
       "      <td>Australia</td>\n",
       "      <td>Canada</td>\n",
       "      <td>Bicycles, other cycles, not motorized</td>\n",
       "      <td>8712</td>\n",
       "      <td>4710</td>\n",
       "    </tr>\n",
       "  </tbody>\n",
       "</table>\n",
       "</div>"
      ],
      "text/plain": [
       "   Year  Period Trade Flow   Reporter    Partner  \\\n",
       "0  2014  201401    Imports  Australia      World   \n",
       "2  2014  201401    Imports  Australia  Australia   \n",
       "3  2014  201401    Imports  Australia    Belgium   \n",
       "4  2014  201401    Imports  Australia   Cambodia   \n",
       "6  2014  201401    Imports  Australia     Canada   \n",
       "\n",
       "                               Commodity Commodity Code  Trade Value (US$)  \n",
       "0  Bicycles, other cycles, not motorized           8712           20383303  \n",
       "2  Bicycles, other cycles, not motorized           8712               2241  \n",
       "3  Bicycles, other cycles, not motorized           8712               9197  \n",
       "4  Bicycles, other cycles, not motorized           8712             297827  \n",
       "6  Bicycles, other cycles, not motorized           8712               4710  "
      ]
     },
     "execution_count": 34,
     "metadata": {},
     "output_type": "execute_result"
    }
   ],
   "source": [
    "bicycle_imports = trade_flows.get_group(\"Imports\")\n",
    "bicycle_imports.head()"
   ]
  },
  {
   "cell_type": "code",
   "execution_count": 35,
   "metadata": {
    "collapsed": false
   },
   "outputs": [
    {
     "data": {
      "text/html": [
       "<div>\n",
       "<table border=\"1\" class=\"dataframe\">\n",
       "  <thead>\n",
       "    <tr style=\"text-align: right;\">\n",
       "      <th></th>\n",
       "      <th>Year</th>\n",
       "      <th>Period</th>\n",
       "      <th>Trade Flow</th>\n",
       "      <th>Reporter</th>\n",
       "      <th>Partner</th>\n",
       "      <th>Commodity</th>\n",
       "      <th>Commodity Code</th>\n",
       "      <th>Trade Value (US$)</th>\n",
       "    </tr>\n",
       "  </thead>\n",
       "  <tbody>\n",
       "    <tr>\n",
       "      <th>1</th>\n",
       "      <td>2014</td>\n",
       "      <td>201401</td>\n",
       "      <td>Exports</td>\n",
       "      <td>Australia</td>\n",
       "      <td>World</td>\n",
       "      <td>Bicycles, other cycles, not motorized</td>\n",
       "      <td>8712</td>\n",
       "      <td>175499</td>\n",
       "    </tr>\n",
       "    <tr>\n",
       "      <th>5</th>\n",
       "      <td>2014</td>\n",
       "      <td>201401</td>\n",
       "      <td>Exports</td>\n",
       "      <td>Australia</td>\n",
       "      <td>Cambodia</td>\n",
       "      <td>Bicycles, other cycles, not motorized</td>\n",
       "      <td>8712</td>\n",
       "      <td>2215</td>\n",
       "    </tr>\n",
       "    <tr>\n",
       "      <th>7</th>\n",
       "      <td>2014</td>\n",
       "      <td>201401</td>\n",
       "      <td>Exports</td>\n",
       "      <td>Australia</td>\n",
       "      <td>Canada</td>\n",
       "      <td>Bicycles, other cycles, not motorized</td>\n",
       "      <td>8712</td>\n",
       "      <td>7086</td>\n",
       "    </tr>\n",
       "    <tr>\n",
       "      <th>9</th>\n",
       "      <td>2014</td>\n",
       "      <td>201401</td>\n",
       "      <td>Exports</td>\n",
       "      <td>Australia</td>\n",
       "      <td>Christmas Isds</td>\n",
       "      <td>Bicycles, other cycles, not motorized</td>\n",
       "      <td>8712</td>\n",
       "      <td>2012</td>\n",
       "    </tr>\n",
       "    <tr>\n",
       "      <th>10</th>\n",
       "      <td>2014</td>\n",
       "      <td>201401</td>\n",
       "      <td>Exports</td>\n",
       "      <td>Australia</td>\n",
       "      <td>Czech Rep.</td>\n",
       "      <td>Bicycles, other cycles, not motorized</td>\n",
       "      <td>8712</td>\n",
       "      <td>13674</td>\n",
       "    </tr>\n",
       "  </tbody>\n",
       "</table>\n",
       "</div>"
      ],
      "text/plain": [
       "    Year  Period Trade Flow   Reporter         Partner  \\\n",
       "1   2014  201401    Exports  Australia           World   \n",
       "5   2014  201401    Exports  Australia        Cambodia   \n",
       "7   2014  201401    Exports  Australia          Canada   \n",
       "9   2014  201401    Exports  Australia  Christmas Isds   \n",
       "10  2014  201401    Exports  Australia      Czech Rep.   \n",
       "\n",
       "                                Commodity Commodity Code  Trade Value (US$)  \n",
       "1   Bicycles, other cycles, not motorized           8712             175499  \n",
       "5   Bicycles, other cycles, not motorized           8712               2215  \n",
       "7   Bicycles, other cycles, not motorized           8712               7086  \n",
       "9   Bicycles, other cycles, not motorized           8712               2012  \n",
       "10  Bicycles, other cycles, not motorized           8712              13674  "
      ]
     },
     "execution_count": 35,
     "metadata": {},
     "output_type": "execute_result"
    }
   ],
   "source": [
    "bicycle_exports = trade_flows.get_group('Exports')\n",
    "bicycle_exports.head()"
   ]
  },
  {
   "cell_type": "markdown",
   "metadata": {},
   "source": [
    "## Get totals by trading partner for bicycle exports\n",
    "\n",
    "Sort and display list, and show top 10 compared to world in a bar plot."
   ]
  },
  {
   "cell_type": "code",
   "execution_count": 36,
   "metadata": {
    "collapsed": false
   },
   "outputs": [
    {
     "data": {
      "text/plain": [
       "Partner\n",
       "World                       5185879\n",
       "New Zealand                 2659336\n",
       "Other Asia, nes              713912\n",
       "Japan                        423116\n",
       "United Kingdom               229723\n",
       "Rep. of Korea                195066\n",
       "United States of America     157520\n",
       "China                        128904\n",
       "Spain                        103854\n",
       "Singapore                     68917\n",
       "Iraq                          67278\n",
       "Chile                         62495\n",
       "Italy                         59146\n",
       "New Caledonia                 54044\n",
       "China, Hong Kong SAR          43235\n",
       "Canada                        32558\n",
       "France                        19670\n",
       "Namibia                       14190\n",
       "Czech Rep.                    13674\n",
       "Netherlands                   13340\n",
       "Nauru                         12021\n",
       "Christmas Isds                10451\n",
       "Ireland                        9948\n",
       "Norfolk Isds                   9827\n",
       "Malaysia                       8983\n",
       "Viet Nam                       8006\n",
       "Brazil                         7752\n",
       "Switzerland                    7329\n",
       "Finland                        6266\n",
       "Cook Isds                      6146\n",
       "Vanuatu                        6140\n",
       "Egypt                          5935\n",
       "United Arab Emirates           5109\n",
       "Benin                          3291\n",
       "Myanmar                        2783\n",
       "Cocos Isds                     2689\n",
       "Papua New Guinea               2601\n",
       "Thailand                       2315\n",
       "Cambodia                       2215\n",
       "Sweden                         2005\n",
       "Lebanon                        1397\n",
       "Fiji                            824\n",
       "Tonga                           816\n",
       "Nigeria                         387\n",
       "Kenya                           358\n",
       "Timor-Leste                     307\n",
       "Name: Trade Value (US$), dtype: int64"
      ]
     },
     "execution_count": 36,
     "metadata": {},
     "output_type": "execute_result"
    }
   ],
   "source": [
    "partner_totals_exports = bicycle_exports.groupby(['Partner'])['Trade Value (US$)'].aggregate(sum)\n",
    "partner_totals_exports_sorted = partner_totals_exports.sort(ascending=False, inplace=False)\n",
    "partner_totals_exports_sorted"
   ]
  },
  {
   "cell_type": "code",
   "execution_count": 37,
   "metadata": {
    "collapsed": false
   },
   "outputs": [
    {
     "data": {
      "text/plain": [
       "<matplotlib.axes._subplots.AxesSubplot at 0x73b6030>"
      ]
     },
     "execution_count": 37,
     "metadata": {},
     "output_type": "execute_result"
    },
    {
     "data": {
      "image/png": "[encoded data removed]",
      "text/plain": [
       "<matplotlib.figure.Figure at 0x8e27210>"
      ]
     },
     "metadata": {},
     "output_type": "display_data"
    }
   ],
   "source": [
    "partner_totals_exports_sorted.head(11).plot(kind=\"bar\")"
   ]
  },
  {
   "cell_type": "markdown",
   "metadata": {},
   "source": [
    "## Get totals by trading partner for bicycle imports\n",
    "\n",
    "Sort and display list, and show top 10 compared to world in a bar plot."
   ]
  },
  {
   "cell_type": "code",
   "execution_count": 38,
   "metadata": {
    "collapsed": false
   },
   "outputs": [
    {
     "data": {
      "text/plain": [
       "Partner\n",
       "World                       248408322\n",
       "China                       122472160\n",
       "Other Asia, nes              95803585\n",
       "United States of America     12494345\n",
       "Germany                       5394221\n",
       "Cambodia                      2203772\n",
       "Italy                         2092516\n",
       "Indonesia                     1417533\n",
       "United Kingdom                1106310\n",
       "Netherlands                    977286\n",
       "Switzerland                    821220\n",
       "Canada                         616204\n",
       "Spain                          531308\n",
       "Viet Nam                       473883\n",
       "Bangladesh                     392776\n",
       "Belgium                        347888\n",
       "France                         205256\n",
       "Belize                         202343\n",
       "Singapore                      190566\n",
       "Denmark                        137070\n",
       "Hungary                        106610\n",
       "Australia                       91924\n",
       "China, Hong Kong SAR            90715\n",
       "New Zealand                     68797\n",
       "Thailand                        51014\n",
       "Austria                         33462\n",
       "Japan                           28123\n",
       "Latvia                          19479\n",
       "Ireland                          8105\n",
       "Czech Rep.                       7949\n",
       "South Africa                     6826\n",
       "India                            6588\n",
       "Rep. of Korea                    3977\n",
       "Bulgaria                         2523\n",
       "Romania                          1988\n",
       "Name: Trade Value (US$), dtype: int64"
      ]
     },
     "execution_count": 38,
     "metadata": {},
     "output_type": "execute_result"
    }
   ],
   "source": [
    "partner_totals_imports = bicycle_imports.groupby(['Partner'])['Trade Value (US$)'].aggregate(sum)\n",
    "partner_totals_imports_sorted = partner_totals_imports.sort(ascending=False, inplace=False)\n",
    "partner_totals_imports_sorted"
   ]
  },
  {
   "cell_type": "code",
   "execution_count": 39,
   "metadata": {
    "collapsed": false
   },
   "outputs": [
    {
     "data": {
      "text/plain": [
       "<matplotlib.axes._subplots.AxesSubplot at 0x8e2c8b0>"
      ]
     },
     "execution_count": 39,
     "metadata": {},
     "output_type": "execute_result"
    },
    {
     "data": {
      "image/png": "[encoded data removed]",
      "text/plain": [
       "<matplotlib.figure.Figure at 0x92cdf50>"
      ]
     },
     "metadata": {},
     "output_type": "display_data"
    }
   ],
   "source": [
    "partner_totals_imports_sorted.head(11).plot(kind=\"bar\")"
   ]
  },
  {
   "cell_type": "code",
   "execution_count": null,
   "metadata": {
    "collapsed": true
   },
   "outputs": [],
   "source": []
  }
 ],
 "metadata": {
  "kernelspec": {
   "display_name": "Python 3",
   "language": "python",
   "name": "python3"
  },
  "language_info": {
   "codemirror_mode": {
    "name": "ipython",
    "version": 3
   },
   "file_extension": ".py",
   "mimetype": "text/x-python",
   "name": "python",
   "nbconvert_exporter": "python",
   "pygments_lexer": "ipython3",
   "version": "3.4.3"
  }
 },
 "nbformat": 4,
 "nbformat_minor": 0
}
